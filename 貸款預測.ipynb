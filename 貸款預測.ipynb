{
 "cells": [
  {
   "cell_type": "code",
   "execution_count": 24,
   "id": "3ab6afe8",
   "metadata": {},
   "outputs": [],
   "source": [
    "import pandas as pd\n",
    "import numpy as np\n",
    "import matplotlib.pyplot as plt\n",
    "import seaborn as sns\n",
    "from sklearn.preprocessing import LabelEncoder\n",
    "from sklearn.ensemble import RandomForestClassifier\n",
    "%matplotlib inline\n"
   ]
  },
  {
   "cell_type": "code",
   "execution_count": 25,
   "id": "f4b82f56",
   "metadata": {},
   "outputs": [],
   "source": [
    "#Dependents 缺失值取平均\n",
    "data = pd.read_csv(\"C:/Users/asd11/OneDrive/桌面/貸款模型預測/train_ctrUa4K.csv\")\n",
    "\n",
    "gender = []\n",
    "for i in data[\"Gender\"] :\n",
    "    if i == 'Female' :\n",
    "        gender.append('0')\n",
    "    elif i == 'Male' :\n",
    "        gender.append('1')\n",
    "    else :\n",
    "        gender.append(np.nan)\n",
    "data['Gender'] = gender\n",
    "\n",
    "married = []\n",
    "for i in data[\"Married\"] :\n",
    "    if i == 'No' :\n",
    "        married.append('0')\n",
    "    elif i == 'Yes' :\n",
    "        married.append('1')\n",
    "    else :\n",
    "        married.append(np.nan)\n",
    "data['Married'] = married\n",
    "\n",
    "Edu = []\n",
    "for i in data[\"Education\"] :\n",
    "    if i == 'Graduate' :\n",
    "        Edu.append('1')\n",
    "    else :\n",
    "        Edu.append('0')\n",
    "data['Education'] = Edu\n",
    "\n",
    "self_employee = []\n",
    "for i in data[\"Self_Employed\"] :\n",
    "    if i == 'Yes' :\n",
    "        self_employee.append('1')\n",
    "    elif i == 'No' :\n",
    "        self_employee.append('0')\n",
    "    else :\n",
    "        self_employee.append(np.nan)\n",
    "data[\"Self_Employed\"] = self_employee\n",
    "\n",
    "area = []\n",
    "for i in data[\"Property_Area\"] :\n",
    "    if i == 'Urban' :\n",
    "        area.append('2')\n",
    "    elif i == 'Semiurban' :\n",
    "        area.append('1')\n",
    "    else :\n",
    "        area.append('0')\n",
    "data[\"Property_AreaId\"] = area\n",
    "\n",
    "dep = []\n",
    "for i in data[\"Dependents\"] :\n",
    "    if i == '0' :\n",
    "        dep.append(0)\n",
    "    elif i == '1' :\n",
    "        dep.append(1)\n",
    "    elif i == '2' :\n",
    "        dep.append(2)\n",
    "    elif i == '3+' :\n",
    "        dep.append(3)\n",
    "    else :\n",
    "        dep.append(np.nan)\n",
    "data[\"Dependents\"] = dep\n",
    "\n",
    "his = []\n",
    "for i in data[\"Credit_History\"] :\n",
    "    if i == 1.0 :\n",
    "        his.append(1)\n",
    "    elif i == 0.0 :\n",
    "        his.append(0)\n",
    "    else :\n",
    "        his.append(1)\n",
    "data[\"Credit_History\"] = his\n",
    "\n",
    "#未婚育兒的失敗率較高\n",
    "unmar_dep = []\n",
    "for i in data['Married'] :\n",
    "    if i == '0' :\n",
    "        unmar_dep.append('1')\n",
    "    else :\n",
    "        unmar_dep.append('0')\n",
    "for i in range(len(data['Dependents'])) :\n",
    "    if data['Dependents'].loc[i] == 0 :\n",
    "        unmar_dep[i] = '0'\n",
    "data['unmar_dep'] = unmar_dep\n",
    "\n",
    "#未畢業居住鄉村的失敗率較高\n",
    "unedu_rural = []\n",
    "for i in data['Education'] :\n",
    "    if i == '0' :\n",
    "        unedu_rural.append('1')\n",
    "    else :\n",
    "        unedu_rural.append('0')\n",
    "for i in range(len(data['Property_AreaId'])) :\n",
    "    if data['Property_AreaId'].loc[i] == '1' or data['Property_AreaId'].loc[i] == '2' :\n",
    "        unedu_rural[i] = '0'\n",
    "data['unedu_rural'] = unedu_rural\n",
    "\n",
    "#結婚住郊區成功率高\n",
    "marr_sub = []\n",
    "mar = data['Married']=='1'\n",
    "sub = data['Property_AreaId']=='1'\n",
    "dataset = data[mar & sub]\n",
    "Loan_ID = []\n",
    "for i in dataset['Loan_ID'] :\n",
    "    Loan_ID.append(i)\n",
    "for i in data['Loan_ID'] :\n",
    "    if i not in Loan_ID :\n",
    "        marr_sub.append('0')\n",
    "    else :\n",
    "        marr_sub.append('1')\n",
    "data['marr_sub'] = marr_sub\n",
    "\n",
    "#處理Gender的缺失值\n",
    "data['Gender'].value_counts()\n",
    "data['Gender'] = data['Gender'].fillna('1')\n",
    "\n",
    "#處理Married的缺失值\n",
    "data['Married'].value_counts()\n",
    "data['Married'] = data['Married'].fillna('1')\n",
    "\n",
    "\n",
    "#缺失值取1\n",
    "data['Dependents'] = data['Dependents'].fillna(data['Dependents'].mean())\n",
    "\n",
    "#處理Self_Employed的缺失值\n",
    "data['Self_Employed'].value_counts()\n",
    "data['Self_Employed'] = data['Self_Employed'].fillna('0')\n",
    "\n",
    "#處理loan amount 的缺失值\n",
    "data['LoanAmount'].value_counts()\n",
    "#取平均值\n",
    "data['LoanAmount'] = data['LoanAmount'].fillna(data['LoanAmount'].mean())\n",
    "\n",
    "#處理Loan_Amount_Term缺失值\n",
    "data['Loan_Amount_Term'].value_counts()\n",
    "#取平均值\n",
    "data['Loan_Amount_Term'] = data['Loan_Amount_Term'].fillna(data['Loan_Amount_Term'].mean())\n",
    "\n",
    "#處理Credit_History缺失值\n",
    "data['Credit_History'].value_counts()\n",
    "#取1\n",
    "data['Credit_History'] = data['Credit_History'].fillna('1')\n",
    "\n",
    "data['Loan_ID'] = data['Loan_ID'].astype('category')\n",
    "data['Gender'] = data['Gender'].astype('category')\n",
    "data['Married'] = data['Married'].astype('category')\n",
    "data['Dependents'] = data['Dependents'].astype(float)\n",
    "data['Education'] = data['Education'].astype('category')\n",
    "data['Self_Employed'] = data['Self_Employed'].astype('category')\n",
    "data['Property_Area'] = data['Property_Area'].astype('category')\n",
    "data['Loan_Status'] = data['Loan_Status'].astype('category')\n",
    "data['Property_AreaId'] = data['Property_AreaId'].astype('category')"
   ]
  },
  {
   "cell_type": "code",
   "execution_count": 26,
   "id": "5aa00c38",
   "metadata": {},
   "outputs": [],
   "source": [
    "#自定義函式\n",
    "def standard(data) :\n",
    "    gender = []\n",
    "    for i in data[\"Gender\"] :\n",
    "        if i == 'Female' :\n",
    "            gender.append('0')\n",
    "        elif i == 'Male' :\n",
    "            gender.append('1')\n",
    "        else :\n",
    "            gender.append(np.nan)\n",
    "    data['Gender'] = gender\n",
    "\n",
    "    married = []\n",
    "    for i in data[\"Married\"] :\n",
    "        if i == 'No' :\n",
    "            married.append('0')\n",
    "        elif i == 'Yes' :\n",
    "            married.append('1')\n",
    "        else :\n",
    "            married.append(np.nan)\n",
    "    data['Married'] = married\n",
    "\n",
    "    Edu = []\n",
    "    for i in data[\"Education\"] :\n",
    "        if i == 'Graduate' :\n",
    "            Edu.append('1')\n",
    "        else :\n",
    "            Edu.append('0')\n",
    "    data['Education'] = Edu\n",
    "\n",
    "    self_employee = []\n",
    "    for i in data[\"Self_Employed\"] :\n",
    "        if i == 'Yes' :\n",
    "            self_employee.append('1')\n",
    "        elif i == 'No' :\n",
    "            self_employee.append('0')\n",
    "        else :\n",
    "            self_employee.append(np.nan)\n",
    "    data[\"Self_Employed\"] = self_employee\n",
    "\n",
    "    area = []\n",
    "    for i in data[\"Property_Area\"] :\n",
    "        if i == 'Urban' :\n",
    "            area.append('2')\n",
    "        elif i == 'Semiurban' :\n",
    "            area.append('1')\n",
    "        else :\n",
    "            area.append('0')\n",
    "    data[\"Property_AreaId\"] = area\n",
    "\n",
    "    dep = []\n",
    "    for i in data[\"Dependents\"] :\n",
    "        if i == '0' :\n",
    "            dep.append(0)\n",
    "        elif i == '1' :\n",
    "            dep.append(1)\n",
    "        elif i == '2' :\n",
    "            dep.append(2)\n",
    "        elif i == '3+' :\n",
    "            dep.append(3)\n",
    "        else :\n",
    "            dep.append(np.nan)\n",
    "    data[\"Dependents\"] = dep\n",
    "\n",
    "    his = []\n",
    "    for i in data[\"Credit_History\"] :\n",
    "        if i == 1.0 :\n",
    "            his.append(1)\n",
    "        elif i == 0.0 :\n",
    "            his.append(0)\n",
    "        else :\n",
    "            his.append(1)\n",
    "    data[\"Credit_History\"] = his\n",
    "    \n",
    "    #未婚育兒的失敗率較高\n",
    "    unmar_dep = []\n",
    "    for i in data['Married'] :\n",
    "        if i == '0' :\n",
    "            unmar_dep.append('1')\n",
    "        else :\n",
    "            unmar_dep.append('0')\n",
    "    for i in range(len(data['Dependents'])) :\n",
    "        if data['Dependents'].loc[i] == 0 :\n",
    "            unmar_dep[i] = '0'\n",
    "    data['unmar_dep'] = unmar_dep\n",
    "\n",
    "    #未畢業居住鄉村的失敗率較高\n",
    "    unedu_rural = []\n",
    "    for i in data['Education'] :\n",
    "        if i == '0' :\n",
    "            unedu_rural.append('1')\n",
    "        else :\n",
    "            unedu_rural.append('0')\n",
    "    for i in range(len(data['Property_AreaId'])) :\n",
    "        if data['Property_AreaId'].loc[i] == '1' or data['Property_AreaId'].loc[i] == '2' :\n",
    "            unedu_rural[i] = '0'\n",
    "    data['unedu_rural'] = unedu_rural\n",
    "    \n",
    "    #結婚住郊區成功率高\n",
    "    marr_sub = []\n",
    "    mar = data['Married']=='1'\n",
    "    sub = data['Property_AreaId']=='1'\n",
    "    dataset = data[mar & sub]\n",
    "    Loan_ID = []\n",
    "    for i in dataset['Loan_ID'] :\n",
    "        Loan_ID.append(i)\n",
    "    for i in data['Loan_ID'] :\n",
    "        if i not in Loan_ID :\n",
    "            marr_sub.append('0')\n",
    "        else :\n",
    "            marr_sub.append('1')\n",
    "    data['marr_sub'] = marr_sub\n",
    "\n",
    "    data['Loan_ID'] = data['Loan_ID'].astype('category')\n",
    "    data['Gender'] = data['Gender'].astype('category')\n",
    "    data['Married'] = data['Married'].astype('category')\n",
    "    data['Dependents'] = data['Dependents'].astype(float)\n",
    "    data['Education'] = data['Education'].astype('category')\n",
    "    data['Self_Employed'] = data['Self_Employed'].astype('category')\n",
    "    data['Property_Area'] = data['Property_Area'].astype('category')\n",
    "    data['Property_AreaId'] = data['Property_AreaId'].astype('category')\n",
    "\n",
    "    #處理Gender的缺失值\n",
    "    data['Gender'] = data['Gender'].fillna('1')\n",
    "\n",
    "    #處理Married的缺失值\n",
    "    data['Married'] = data['Married'].fillna('1')\n",
    "\n",
    "\n",
    "    #缺失值取1\n",
    "    data['Dependents'] = data['Dependents'].fillna(data['Dependents'].mean())\n",
    "\n",
    "    #處理Self_Employed的缺失值\n",
    "    data['Self_Employed'] = data['Self_Employed'].fillna('0')\n",
    "\n",
    "    #處理loan amount 的缺失值\n",
    "    #取平均值\n",
    "    data['LoanAmount'] = data['LoanAmount'].fillna(data['LoanAmount'].mean())\n",
    "\n",
    "    #處理Loan_Amount_Term缺失值\n",
    "    #取平均值\n",
    "    data['Loan_Amount_Term'] = data['Loan_Amount_Term'].fillna(data['Loan_Amount_Term'].mean())\n",
    "\n",
    "    #處理Credit_History缺失值\n",
    "    #取1\n",
    "    data['Credit_History'] = data['Credit_History'].fillna('1')"
   ]
  },
  {
   "cell_type": "code",
   "execution_count": 31,
   "id": "2417434f",
   "metadata": {},
   "outputs": [],
   "source": [
    "data = pd.read_csv(\"C:/Users/asd11/OneDrive/桌面/貸款模型預測/train_ctrUa4K.csv\")"
   ]
  },
  {
   "cell_type": "code",
   "execution_count": 28,
   "id": "91204f22",
   "metadata": {},
   "outputs": [],
   "source": [
    "standard(data)"
   ]
  },
  {
   "cell_type": "code",
   "execution_count": 32,
   "id": "87be09b5",
   "metadata": {},
   "outputs": [
    {
     "data": {
      "text/plain": [
       "Loan_ID               0\n",
       "Gender               13\n",
       "Married               3\n",
       "Dependents           15\n",
       "Education             0\n",
       "Self_Employed        32\n",
       "ApplicantIncome       0\n",
       "CoapplicantIncome     0\n",
       "LoanAmount           22\n",
       "Loan_Amount_Term     14\n",
       "Credit_History       50\n",
       "Property_Area         0\n",
       "Loan_Status           0\n",
       "dtype: int64"
      ]
     },
     "execution_count": 32,
     "metadata": {},
     "output_type": "execute_result"
    }
   ],
   "source": [
    "data.isnull().sum()"
   ]
  },
  {
   "cell_type": "code",
   "execution_count": 7,
   "id": "344a6444",
   "metadata": {},
   "outputs": [
    {
     "data": {
      "text/html": [
       "<div>\n",
       "<style scoped>\n",
       "    .dataframe tbody tr th:only-of-type {\n",
       "        vertical-align: middle;\n",
       "    }\n",
       "\n",
       "    .dataframe tbody tr th {\n",
       "        vertical-align: top;\n",
       "    }\n",
       "\n",
       "    .dataframe thead th {\n",
       "        text-align: right;\n",
       "    }\n",
       "</style>\n",
       "<table border=\"1\" class=\"dataframe\">\n",
       "  <thead>\n",
       "    <tr style=\"text-align: right;\">\n",
       "      <th></th>\n",
       "      <th>Loan_ID</th>\n",
       "      <th>Gender</th>\n",
       "      <th>Married</th>\n",
       "      <th>Dependents</th>\n",
       "      <th>Education</th>\n",
       "      <th>Self_Employed</th>\n",
       "      <th>ApplicantIncome</th>\n",
       "      <th>CoapplicantIncome</th>\n",
       "      <th>LoanAmount</th>\n",
       "      <th>Loan_Amount_Term</th>\n",
       "      <th>Credit_History</th>\n",
       "      <th>Property_Area</th>\n",
       "      <th>Loan_Status</th>\n",
       "      <th>Property_AreaId</th>\n",
       "      <th>unmar_dep</th>\n",
       "      <th>unedu_rural</th>\n",
       "      <th>marr_sub</th>\n",
       "    </tr>\n",
       "  </thead>\n",
       "  <tbody>\n",
       "    <tr>\n",
       "      <th>0</th>\n",
       "      <td>LP001002</td>\n",
       "      <td>1</td>\n",
       "      <td>0</td>\n",
       "      <td>0.0</td>\n",
       "      <td>1</td>\n",
       "      <td>0</td>\n",
       "      <td>5849</td>\n",
       "      <td>0.0</td>\n",
       "      <td>146.412162</td>\n",
       "      <td>360.0</td>\n",
       "      <td>1</td>\n",
       "      <td>Urban</td>\n",
       "      <td>Y</td>\n",
       "      <td>2</td>\n",
       "      <td>0</td>\n",
       "      <td>0</td>\n",
       "      <td>0</td>\n",
       "    </tr>\n",
       "    <tr>\n",
       "      <th>1</th>\n",
       "      <td>LP001003</td>\n",
       "      <td>1</td>\n",
       "      <td>1</td>\n",
       "      <td>1.0</td>\n",
       "      <td>1</td>\n",
       "      <td>0</td>\n",
       "      <td>4583</td>\n",
       "      <td>1508.0</td>\n",
       "      <td>128.000000</td>\n",
       "      <td>360.0</td>\n",
       "      <td>1</td>\n",
       "      <td>Rural</td>\n",
       "      <td>N</td>\n",
       "      <td>0</td>\n",
       "      <td>0</td>\n",
       "      <td>0</td>\n",
       "      <td>0</td>\n",
       "    </tr>\n",
       "    <tr>\n",
       "      <th>2</th>\n",
       "      <td>LP001005</td>\n",
       "      <td>1</td>\n",
       "      <td>1</td>\n",
       "      <td>0.0</td>\n",
       "      <td>1</td>\n",
       "      <td>1</td>\n",
       "      <td>3000</td>\n",
       "      <td>0.0</td>\n",
       "      <td>66.000000</td>\n",
       "      <td>360.0</td>\n",
       "      <td>1</td>\n",
       "      <td>Urban</td>\n",
       "      <td>Y</td>\n",
       "      <td>2</td>\n",
       "      <td>0</td>\n",
       "      <td>0</td>\n",
       "      <td>0</td>\n",
       "    </tr>\n",
       "    <tr>\n",
       "      <th>3</th>\n",
       "      <td>LP001006</td>\n",
       "      <td>1</td>\n",
       "      <td>1</td>\n",
       "      <td>0.0</td>\n",
       "      <td>0</td>\n",
       "      <td>0</td>\n",
       "      <td>2583</td>\n",
       "      <td>2358.0</td>\n",
       "      <td>120.000000</td>\n",
       "      <td>360.0</td>\n",
       "      <td>1</td>\n",
       "      <td>Urban</td>\n",
       "      <td>Y</td>\n",
       "      <td>2</td>\n",
       "      <td>0</td>\n",
       "      <td>0</td>\n",
       "      <td>0</td>\n",
       "    </tr>\n",
       "    <tr>\n",
       "      <th>4</th>\n",
       "      <td>LP001008</td>\n",
       "      <td>1</td>\n",
       "      <td>0</td>\n",
       "      <td>0.0</td>\n",
       "      <td>1</td>\n",
       "      <td>0</td>\n",
       "      <td>6000</td>\n",
       "      <td>0.0</td>\n",
       "      <td>141.000000</td>\n",
       "      <td>360.0</td>\n",
       "      <td>1</td>\n",
       "      <td>Urban</td>\n",
       "      <td>Y</td>\n",
       "      <td>2</td>\n",
       "      <td>0</td>\n",
       "      <td>0</td>\n",
       "      <td>0</td>\n",
       "    </tr>\n",
       "  </tbody>\n",
       "</table>\n",
       "</div>"
      ],
      "text/plain": [
       "    Loan_ID Gender Married  Dependents Education Self_Employed  \\\n",
       "0  LP001002      1       0         0.0         1             0   \n",
       "1  LP001003      1       1         1.0         1             0   \n",
       "2  LP001005      1       1         0.0         1             1   \n",
       "3  LP001006      1       1         0.0         0             0   \n",
       "4  LP001008      1       0         0.0         1             0   \n",
       "\n",
       "   ApplicantIncome  CoapplicantIncome  LoanAmount  Loan_Amount_Term  \\\n",
       "0             5849                0.0  146.412162             360.0   \n",
       "1             4583             1508.0  128.000000             360.0   \n",
       "2             3000                0.0   66.000000             360.0   \n",
       "3             2583             2358.0  120.000000             360.0   \n",
       "4             6000                0.0  141.000000             360.0   \n",
       "\n",
       "   Credit_History Property_Area Loan_Status Property_AreaId unmar_dep  \\\n",
       "0               1         Urban           Y               2         0   \n",
       "1               1         Rural           N               0         0   \n",
       "2               1         Urban           Y               2         0   \n",
       "3               1         Urban           Y               2         0   \n",
       "4               1         Urban           Y               2         0   \n",
       "\n",
       "  unedu_rural marr_sub  \n",
       "0           0        0  \n",
       "1           0        0  \n",
       "2           0        0  \n",
       "3           0        0  \n",
       "4           0        0  "
      ]
     },
     "execution_count": 7,
     "metadata": {},
     "output_type": "execute_result"
    }
   ],
   "source": [
    "data.head()"
   ]
  },
  {
   "cell_type": "code",
   "execution_count": 8,
   "id": "4f03a4c9",
   "metadata": {},
   "outputs": [
    {
     "data": {
      "text/html": [
       "<div>\n",
       "<style scoped>\n",
       "    .dataframe tbody tr th:only-of-type {\n",
       "        vertical-align: middle;\n",
       "    }\n",
       "\n",
       "    .dataframe tbody tr th {\n",
       "        vertical-align: top;\n",
       "    }\n",
       "\n",
       "    .dataframe thead th {\n",
       "        text-align: right;\n",
       "    }\n",
       "</style>\n",
       "<table border=\"1\" class=\"dataframe\">\n",
       "  <thead>\n",
       "    <tr style=\"text-align: right;\">\n",
       "      <th></th>\n",
       "      <th>Dependents</th>\n",
       "      <th>ApplicantIncome</th>\n",
       "      <th>CoapplicantIncome</th>\n",
       "      <th>LoanAmount</th>\n",
       "      <th>Loan_Amount_Term</th>\n",
       "      <th>Credit_History</th>\n",
       "    </tr>\n",
       "  </thead>\n",
       "  <tbody>\n",
       "    <tr>\n",
       "      <th>count</th>\n",
       "      <td>614.000000</td>\n",
       "      <td>614.000000</td>\n",
       "      <td>614.000000</td>\n",
       "      <td>614.000000</td>\n",
       "      <td>614.000000</td>\n",
       "      <td>614.000000</td>\n",
       "    </tr>\n",
       "    <tr>\n",
       "      <th>mean</th>\n",
       "      <td>0.762938</td>\n",
       "      <td>5403.459283</td>\n",
       "      <td>1621.245798</td>\n",
       "      <td>146.412162</td>\n",
       "      <td>342.000000</td>\n",
       "      <td>0.855049</td>\n",
       "    </tr>\n",
       "    <tr>\n",
       "      <th>std</th>\n",
       "      <td>1.002718</td>\n",
       "      <td>6109.041673</td>\n",
       "      <td>2926.248369</td>\n",
       "      <td>84.037468</td>\n",
       "      <td>64.372489</td>\n",
       "      <td>0.352339</td>\n",
       "    </tr>\n",
       "    <tr>\n",
       "      <th>min</th>\n",
       "      <td>0.000000</td>\n",
       "      <td>150.000000</td>\n",
       "      <td>0.000000</td>\n",
       "      <td>9.000000</td>\n",
       "      <td>12.000000</td>\n",
       "      <td>0.000000</td>\n",
       "    </tr>\n",
       "    <tr>\n",
       "      <th>25%</th>\n",
       "      <td>0.000000</td>\n",
       "      <td>2877.500000</td>\n",
       "      <td>0.000000</td>\n",
       "      <td>100.250000</td>\n",
       "      <td>360.000000</td>\n",
       "      <td>1.000000</td>\n",
       "    </tr>\n",
       "    <tr>\n",
       "      <th>50%</th>\n",
       "      <td>0.000000</td>\n",
       "      <td>3812.500000</td>\n",
       "      <td>1188.500000</td>\n",
       "      <td>129.000000</td>\n",
       "      <td>360.000000</td>\n",
       "      <td>1.000000</td>\n",
       "    </tr>\n",
       "    <tr>\n",
       "      <th>75%</th>\n",
       "      <td>1.000000</td>\n",
       "      <td>5795.000000</td>\n",
       "      <td>2297.250000</td>\n",
       "      <td>164.750000</td>\n",
       "      <td>360.000000</td>\n",
       "      <td>1.000000</td>\n",
       "    </tr>\n",
       "    <tr>\n",
       "      <th>max</th>\n",
       "      <td>3.000000</td>\n",
       "      <td>81000.000000</td>\n",
       "      <td>41667.000000</td>\n",
       "      <td>700.000000</td>\n",
       "      <td>480.000000</td>\n",
       "      <td>1.000000</td>\n",
       "    </tr>\n",
       "  </tbody>\n",
       "</table>\n",
       "</div>"
      ],
      "text/plain": [
       "       Dependents  ApplicantIncome  CoapplicantIncome  LoanAmount  \\\n",
       "count  614.000000       614.000000         614.000000  614.000000   \n",
       "mean     0.762938      5403.459283        1621.245798  146.412162   \n",
       "std      1.002718      6109.041673        2926.248369   84.037468   \n",
       "min      0.000000       150.000000           0.000000    9.000000   \n",
       "25%      0.000000      2877.500000           0.000000  100.250000   \n",
       "50%      0.000000      3812.500000        1188.500000  129.000000   \n",
       "75%      1.000000      5795.000000        2297.250000  164.750000   \n",
       "max      3.000000     81000.000000       41667.000000  700.000000   \n",
       "\n",
       "       Loan_Amount_Term  Credit_History  \n",
       "count        614.000000      614.000000  \n",
       "mean         342.000000        0.855049  \n",
       "std           64.372489        0.352339  \n",
       "min           12.000000        0.000000  \n",
       "25%          360.000000        1.000000  \n",
       "50%          360.000000        1.000000  \n",
       "75%          360.000000        1.000000  \n",
       "max          480.000000        1.000000  "
      ]
     },
     "execution_count": 8,
     "metadata": {},
     "output_type": "execute_result"
    }
   ],
   "source": [
    "data.describe()"
   ]
  },
  {
   "cell_type": "code",
   "execution_count": 33,
   "id": "f72167d0",
   "metadata": {},
   "outputs": [
    {
     "name": "stdout",
     "output_type": "stream",
     "text": [
      "<class 'pandas.core.frame.DataFrame'>\n",
      "RangeIndex: 614 entries, 0 to 613\n",
      "Data columns (total 13 columns):\n",
      " #   Column             Non-Null Count  Dtype  \n",
      "---  ------             --------------  -----  \n",
      " 0   Loan_ID            614 non-null    object \n",
      " 1   Gender             601 non-null    object \n",
      " 2   Married            611 non-null    object \n",
      " 3   Dependents         599 non-null    object \n",
      " 4   Education          614 non-null    object \n",
      " 5   Self_Employed      582 non-null    object \n",
      " 6   ApplicantIncome    614 non-null    int64  \n",
      " 7   CoapplicantIncome  614 non-null    float64\n",
      " 8   LoanAmount         592 non-null    float64\n",
      " 9   Loan_Amount_Term   600 non-null    float64\n",
      " 10  Credit_History     564 non-null    float64\n",
      " 11  Property_Area      614 non-null    object \n",
      " 12  Loan_Status        614 non-null    object \n",
      "dtypes: float64(4), int64(1), object(8)\n",
      "memory usage: 62.5+ KB\n"
     ]
    }
   ],
   "source": [
    "data.info()"
   ]
  },
  {
   "cell_type": "code",
   "execution_count": 11,
   "id": "4a5d6903",
   "metadata": {},
   "outputs": [],
   "source": [
    "gender = []\n",
    "for i in data[\"Gender\"] :\n",
    "    if i == 'Female' :\n",
    "        gender.append('0')\n",
    "    elif i == 'Male' :\n",
    "        gender.append('1')\n",
    "    else :\n",
    "        gender.append(np.nan)\n",
    "data['Gender'] = gender"
   ]
  },
  {
   "cell_type": "code",
   "execution_count": 12,
   "id": "d5858b0a",
   "metadata": {},
   "outputs": [],
   "source": [
    "married = []\n",
    "for i in data[\"Married\"] :\n",
    "    if i == 'No' :\n",
    "        married.append('0')\n",
    "    elif i == 'Yes' :\n",
    "        married.append('1')\n",
    "    else :\n",
    "        married.append(np.nan)\n",
    "data['Married'] = married"
   ]
  },
  {
   "cell_type": "code",
   "execution_count": 13,
   "id": "fbaf39a8",
   "metadata": {},
   "outputs": [],
   "source": [
    "Edu = []\n",
    "for i in data[\"Education\"] :\n",
    "    if i == 'Graduate' :\n",
    "        Edu.append('1')\n",
    "    else :\n",
    "        Edu.append('0')\n",
    "data['Education'] = Edu"
   ]
  },
  {
   "cell_type": "code",
   "execution_count": 14,
   "id": "9b1d03a9",
   "metadata": {},
   "outputs": [],
   "source": [
    "self_employee = []\n",
    "for i in data[\"Self_Employed\"] :\n",
    "    if i == 'Yes' :\n",
    "        self_employee.append('1')\n",
    "    elif i == 'No' :\n",
    "        self_employee.append('0')\n",
    "    else :\n",
    "        self_employee.append(np.nan)\n",
    "data[\"Self_Employed\"] = self_employee"
   ]
  },
  {
   "cell_type": "code",
   "execution_count": 15,
   "id": "0b254335",
   "metadata": {},
   "outputs": [],
   "source": [
    "area = []\n",
    "for i in data[\"Property_Area\"] :\n",
    "    if i == 'Urban' :\n",
    "        area.append('1')\n",
    "    else :\n",
    "        area.append('0')\n",
    "data[\"Property_AreaId\"] = area"
   ]
  },
  {
   "cell_type": "code",
   "execution_count": 16,
   "id": "ac824508",
   "metadata": {},
   "outputs": [],
   "source": [
    "his = []\n",
    "for i in data[\"Credit_History\"] :\n",
    "    if i == 1.0 :\n",
    "        his.append(1)\n",
    "    elif i == 0.0 :\n",
    "        his.append(0)\n",
    "    else :\n",
    "        his.append(1)\n",
    "data[\"Credit_History\"] = his"
   ]
  },
  {
   "cell_type": "code",
   "execution_count": 17,
   "id": "9eea6d94",
   "metadata": {},
   "outputs": [],
   "source": [
    "data['Loan_ID'] = data['Loan_ID'].astype('category')\n",
    "data['Gender'] = data['Gender'].astype('category')\n",
    "data['Married'] = data['Married'].astype('category')\n",
    "data['Dependents'] = data['Dependents'].astype('category')\n",
    "data['Education'] = data['Education'].astype('category')\n",
    "data['Self_Employed'] = data['Self_Employed'].astype('category')\n",
    "data['Property_Area'] = data['Property_Area'].astype('category')\n",
    "data['Loan_Status'] = data['Loan_Status'].astype('category')\n",
    "data['Property_AreaId'] = data['Property_AreaId'].astype('category')"
   ]
  },
  {
   "cell_type": "code",
   "execution_count": 18,
   "id": "cbf180c5",
   "metadata": {},
   "outputs": [
    {
     "data": {
      "text/plain": [
       "Loan_ID                0\n",
       "Gender               614\n",
       "Married              614\n",
       "Dependents             0\n",
       "Education              0\n",
       "Self_Employed        614\n",
       "ApplicantIncome        0\n",
       "CoapplicantIncome      0\n",
       "LoanAmount             0\n",
       "Loan_Amount_Term       0\n",
       "Credit_History         0\n",
       "Property_Area          0\n",
       "Loan_Status            0\n",
       "Property_AreaId        0\n",
       "unmar_dep              0\n",
       "unedu_rural            0\n",
       "marr_sub               0\n",
       "dtype: int64"
      ]
     },
     "execution_count": 18,
     "metadata": {},
     "output_type": "execute_result"
    }
   ],
   "source": [
    "data.isnull().sum()"
   ]
  },
  {
   "cell_type": "code",
   "execution_count": 34,
   "id": "202b09cc",
   "metadata": {},
   "outputs": [
    {
     "data": {
      "text/plain": [
       "Male      489\n",
       "Female    112\n",
       "Name: Gender, dtype: int64"
      ]
     },
     "execution_count": 34,
     "metadata": {},
     "output_type": "execute_result"
    }
   ],
   "source": [
    "#處理Gender的缺失值\n",
    "data['Gender'].value_counts()"
   ]
  },
  {
   "cell_type": "code",
   "execution_count": 35,
   "id": "d77f0ddd",
   "metadata": {},
   "outputs": [],
   "source": [
    "data['Gender'] = data['Gender'].fillna('1')"
   ]
  },
  {
   "cell_type": "code",
   "execution_count": 36,
   "id": "90a2577b",
   "metadata": {},
   "outputs": [
    {
     "data": {
      "text/plain": [
       "Yes    398\n",
       "No     213\n",
       "Name: Married, dtype: int64"
      ]
     },
     "execution_count": 36,
     "metadata": {},
     "output_type": "execute_result"
    }
   ],
   "source": [
    "#處理Married的缺失值\n",
    "data['Married'].value_counts()"
   ]
  },
  {
   "cell_type": "code",
   "execution_count": 132,
   "id": "1ecb16c1",
   "metadata": {},
   "outputs": [],
   "source": [
    "data['Married'] = data['Married'].fillna('1')"
   ]
  },
  {
   "cell_type": "code",
   "execution_count": 133,
   "id": "68fcc9be",
   "metadata": {},
   "outputs": [
    {
     "name": "stdout",
     "output_type": "stream",
     "text": [
      "0.744299674267101\n"
     ]
    }
   ],
   "source": [
    "#處理Dependents的缺失值\n",
    "num = 0\n",
    "for i in data['Dependents'] :\n",
    "    if i == '3+' :\n",
    "        num += 3\n",
    "    elif i == '2' :\n",
    "        num += 2\n",
    "    elif i == '1' :\n",
    "        num += 1\n",
    "print(num/len(data['Dependents']))"
   ]
  },
  {
   "cell_type": "code",
   "execution_count": 135,
   "id": "e815d183",
   "metadata": {},
   "outputs": [
    {
     "data": {
      "text/plain": [
       "0     345\n",
       "1     102\n",
       "2     101\n",
       "3+     51\n",
       "Name: Dependents, dtype: int64"
      ]
     },
     "execution_count": 135,
     "metadata": {},
     "output_type": "execute_result"
    }
   ],
   "source": [
    "data['Dependents'].value_counts()"
   ]
  },
  {
   "cell_type": "code",
   "execution_count": 144,
   "id": "c4d67744",
   "metadata": {},
   "outputs": [],
   "source": [
    "#缺失值取1\n",
    "data['Dependents'] = data['Dependents'].fillna('1')"
   ]
  },
  {
   "cell_type": "code",
   "execution_count": 148,
   "id": "492e56b3",
   "metadata": {},
   "outputs": [
    {
     "data": {
      "text/plain": [
       "0    500\n",
       "1     82\n",
       "Name: Self_Employed, dtype: int64"
      ]
     },
     "execution_count": 148,
     "metadata": {},
     "output_type": "execute_result"
    }
   ],
   "source": [
    "#處理Self_Employed的缺失值\n",
    "data['Self_Employed'].value_counts()"
   ]
  },
  {
   "cell_type": "code",
   "execution_count": 150,
   "id": "5f1093ff",
   "metadata": {},
   "outputs": [],
   "source": [
    "data['Self_Employed'] = data['Self_Employed'].fillna('0')"
   ]
  },
  {
   "cell_type": "code",
   "execution_count": 153,
   "id": "5b01db84",
   "metadata": {},
   "outputs": [
    {
     "data": {
      "text/plain": [
       "120.0    20\n",
       "110.0    17\n",
       "100.0    15\n",
       "160.0    12\n",
       "187.0    12\n",
       "         ..\n",
       "211.0     1\n",
       "250.0     1\n",
       "62.0      1\n",
       "85.0      1\n",
       "436.0     1\n",
       "Name: LoanAmount, Length: 203, dtype: int64"
      ]
     },
     "execution_count": 153,
     "metadata": {},
     "output_type": "execute_result"
    }
   ],
   "source": [
    "#處理loan amount 的缺失值\n",
    "data['LoanAmount'].value_counts()"
   ]
  },
  {
   "cell_type": "code",
   "execution_count": 154,
   "id": "aee553d1",
   "metadata": {},
   "outputs": [],
   "source": [
    "#取平均值\n",
    "data['LoanAmount'] = data['LoanAmount'].fillna(data['LoanAmount'].mean())"
   ]
  },
  {
   "cell_type": "code",
   "execution_count": 156,
   "id": "68b12f94",
   "metadata": {},
   "outputs": [
    {
     "data": {
      "text/plain": [
       "360.0    512\n",
       "180.0     44\n",
       "480.0     15\n",
       "300.0     13\n",
       "84.0       4\n",
       "240.0      4\n",
       "120.0      3\n",
       "36.0       2\n",
       "60.0       2\n",
       "12.0       1\n",
       "Name: Loan_Amount_Term, dtype: int64"
      ]
     },
     "execution_count": 156,
     "metadata": {},
     "output_type": "execute_result"
    }
   ],
   "source": [
    "#處理Loan_Amount_Term缺失值\n",
    "data['Loan_Amount_Term'].value_counts()"
   ]
  },
  {
   "cell_type": "code",
   "execution_count": 157,
   "id": "867ec5ba",
   "metadata": {},
   "outputs": [],
   "source": [
    "#取平均值\n",
    "data['Loan_Amount_Term'] = data['Loan_Amount_Term'].fillna(data['Loan_Amount_Term'].mean())"
   ]
  },
  {
   "cell_type": "code",
   "execution_count": 159,
   "id": "f8edc233",
   "metadata": {},
   "outputs": [
    {
     "data": {
      "text/plain": [
       "1.0    475\n",
       "0.0     89\n",
       "Name: Credit_History, dtype: int64"
      ]
     },
     "execution_count": 159,
     "metadata": {},
     "output_type": "execute_result"
    }
   ],
   "source": [
    "#處理Credit_History缺失值\n",
    "data['Credit_History'].value_counts()"
   ]
  },
  {
   "cell_type": "code",
   "execution_count": 160,
   "id": "84a0452b",
   "metadata": {},
   "outputs": [],
   "source": [
    "#取1\n",
    "data['Credit_History'] = data['Credit_History'].fillna('1')"
   ]
  },
  {
   "cell_type": "code",
   "execution_count": 21,
   "id": "cfaf1e8d",
   "metadata": {},
   "outputs": [],
   "source": [
    "#未婚育兒的失敗率較高\n",
    "unmar_dep = []\n",
    "for i in data['Married'] :\n",
    "    if i == '0' :\n",
    "        unmar_dep.append('1')\n",
    "    else :\n",
    "        unmar_dep.append('0')\n",
    "for i in range(len(data['Dependents'])) :\n",
    "    if data['Dependents'].loc[i] == 0 :\n",
    "        unmar_dep[i] = '0'\n",
    "data['unmar_dep'] = unmar_dep"
   ]
  },
  {
   "cell_type": "code",
   "execution_count": 23,
   "id": "2e6218fc",
   "metadata": {},
   "outputs": [],
   "source": [
    "#未畢業居住鄉村的失敗率較高\n",
    "unedu_rural = []\n",
    "for i in data['Education'] :\n",
    "    if i == '0' :\n",
    "        unedu_rural.append('1')\n",
    "    else :\n",
    "        unedu_rural.append('0')\n",
    "for i in range(len(data['Property_AreaId'])) :\n",
    "    if data['Property_AreaId'].loc[i] == '1' or data['Property_AreaId'].loc[i] == '2' :\n",
    "        unedu_rural[i] = '0'\n",
    "data['unedu_rural'] = unedu_rural"
   ]
  },
  {
   "cell_type": "code",
   "execution_count": 38,
   "id": "66b154f4",
   "metadata": {},
   "outputs": [
    {
     "ename": "KeyError",
     "evalue": "'Property_AreaId'",
     "output_type": "error",
     "traceback": [
      "\u001b[1;31m---------------------------------------------------------------------------\u001b[0m",
      "\u001b[1;31mKeyError\u001b[0m                                  Traceback (most recent call last)",
      "\u001b[1;32m~\\anaconda3\\lib\\site-packages\\pandas\\core\\indexes\\base.py\u001b[0m in \u001b[0;36mget_loc\u001b[1;34m(self, key, method, tolerance)\u001b[0m\n\u001b[0;32m   3079\u001b[0m             \u001b[1;32mtry\u001b[0m\u001b[1;33m:\u001b[0m\u001b[1;33m\u001b[0m\u001b[1;33m\u001b[0m\u001b[0m\n\u001b[1;32m-> 3080\u001b[1;33m                 \u001b[1;32mreturn\u001b[0m \u001b[0mself\u001b[0m\u001b[1;33m.\u001b[0m\u001b[0m_engine\u001b[0m\u001b[1;33m.\u001b[0m\u001b[0mget_loc\u001b[0m\u001b[1;33m(\u001b[0m\u001b[0mcasted_key\u001b[0m\u001b[1;33m)\u001b[0m\u001b[1;33m\u001b[0m\u001b[1;33m\u001b[0m\u001b[0m\n\u001b[0m\u001b[0;32m   3081\u001b[0m             \u001b[1;32mexcept\u001b[0m \u001b[0mKeyError\u001b[0m \u001b[1;32mas\u001b[0m \u001b[0merr\u001b[0m\u001b[1;33m:\u001b[0m\u001b[1;33m\u001b[0m\u001b[1;33m\u001b[0m\u001b[0m\n",
      "\u001b[1;32mpandas\\_libs\\index.pyx\u001b[0m in \u001b[0;36mpandas._libs.index.IndexEngine.get_loc\u001b[1;34m()\u001b[0m\n",
      "\u001b[1;32mpandas\\_libs\\index.pyx\u001b[0m in \u001b[0;36mpandas._libs.index.IndexEngine.get_loc\u001b[1;34m()\u001b[0m\n",
      "\u001b[1;32mpandas\\_libs\\hashtable_class_helper.pxi\u001b[0m in \u001b[0;36mpandas._libs.hashtable.PyObjectHashTable.get_item\u001b[1;34m()\u001b[0m\n",
      "\u001b[1;32mpandas\\_libs\\hashtable_class_helper.pxi\u001b[0m in \u001b[0;36mpandas._libs.hashtable.PyObjectHashTable.get_item\u001b[1;34m()\u001b[0m\n",
      "\u001b[1;31mKeyError\u001b[0m: 'Property_AreaId'",
      "\nThe above exception was the direct cause of the following exception:\n",
      "\u001b[1;31mKeyError\u001b[0m                                  Traceback (most recent call last)",
      "\u001b[1;32m<ipython-input-38-6a956e297646>\u001b[0m in \u001b[0;36m<module>\u001b[1;34m\u001b[0m\n\u001b[0;32m      2\u001b[0m \u001b[0mmarr_sub\u001b[0m \u001b[1;33m=\u001b[0m \u001b[1;33m[\u001b[0m\u001b[1;33m]\u001b[0m\u001b[1;33m\u001b[0m\u001b[1;33m\u001b[0m\u001b[0m\n\u001b[0;32m      3\u001b[0m \u001b[0mmar\u001b[0m \u001b[1;33m=\u001b[0m \u001b[0mdata\u001b[0m\u001b[1;33m[\u001b[0m\u001b[1;34m'Married'\u001b[0m\u001b[1;33m]\u001b[0m\u001b[1;33m==\u001b[0m\u001b[1;34m'1'\u001b[0m\u001b[1;33m\u001b[0m\u001b[1;33m\u001b[0m\u001b[0m\n\u001b[1;32m----> 4\u001b[1;33m \u001b[0msub\u001b[0m \u001b[1;33m=\u001b[0m \u001b[0mdata\u001b[0m\u001b[1;33m[\u001b[0m\u001b[1;34m'Property_AreaId'\u001b[0m\u001b[1;33m]\u001b[0m\u001b[1;33m==\u001b[0m\u001b[1;34m'1'\u001b[0m\u001b[1;33m\u001b[0m\u001b[1;33m\u001b[0m\u001b[0m\n\u001b[0m\u001b[0;32m      5\u001b[0m \u001b[0mdataset\u001b[0m \u001b[1;33m=\u001b[0m \u001b[0mdata\u001b[0m\u001b[1;33m[\u001b[0m\u001b[0mmar\u001b[0m \u001b[1;33m&\u001b[0m \u001b[0msub\u001b[0m\u001b[1;33m]\u001b[0m\u001b[1;33m\u001b[0m\u001b[1;33m\u001b[0m\u001b[0m\n\u001b[0;32m      6\u001b[0m \u001b[0mLoan_ID\u001b[0m \u001b[1;33m=\u001b[0m \u001b[1;33m[\u001b[0m\u001b[1;33m]\u001b[0m\u001b[1;33m\u001b[0m\u001b[1;33m\u001b[0m\u001b[0m\n",
      "\u001b[1;32m~\\anaconda3\\lib\\site-packages\\pandas\\core\\frame.py\u001b[0m in \u001b[0;36m__getitem__\u001b[1;34m(self, key)\u001b[0m\n\u001b[0;32m   3022\u001b[0m             \u001b[1;32mif\u001b[0m \u001b[0mself\u001b[0m\u001b[1;33m.\u001b[0m\u001b[0mcolumns\u001b[0m\u001b[1;33m.\u001b[0m\u001b[0mnlevels\u001b[0m \u001b[1;33m>\u001b[0m \u001b[1;36m1\u001b[0m\u001b[1;33m:\u001b[0m\u001b[1;33m\u001b[0m\u001b[1;33m\u001b[0m\u001b[0m\n\u001b[0;32m   3023\u001b[0m                 \u001b[1;32mreturn\u001b[0m \u001b[0mself\u001b[0m\u001b[1;33m.\u001b[0m\u001b[0m_getitem_multilevel\u001b[0m\u001b[1;33m(\u001b[0m\u001b[0mkey\u001b[0m\u001b[1;33m)\u001b[0m\u001b[1;33m\u001b[0m\u001b[1;33m\u001b[0m\u001b[0m\n\u001b[1;32m-> 3024\u001b[1;33m             \u001b[0mindexer\u001b[0m \u001b[1;33m=\u001b[0m \u001b[0mself\u001b[0m\u001b[1;33m.\u001b[0m\u001b[0mcolumns\u001b[0m\u001b[1;33m.\u001b[0m\u001b[0mget_loc\u001b[0m\u001b[1;33m(\u001b[0m\u001b[0mkey\u001b[0m\u001b[1;33m)\u001b[0m\u001b[1;33m\u001b[0m\u001b[1;33m\u001b[0m\u001b[0m\n\u001b[0m\u001b[0;32m   3025\u001b[0m             \u001b[1;32mif\u001b[0m \u001b[0mis_integer\u001b[0m\u001b[1;33m(\u001b[0m\u001b[0mindexer\u001b[0m\u001b[1;33m)\u001b[0m\u001b[1;33m:\u001b[0m\u001b[1;33m\u001b[0m\u001b[1;33m\u001b[0m\u001b[0m\n\u001b[0;32m   3026\u001b[0m                 \u001b[0mindexer\u001b[0m \u001b[1;33m=\u001b[0m \u001b[1;33m[\u001b[0m\u001b[0mindexer\u001b[0m\u001b[1;33m]\u001b[0m\u001b[1;33m\u001b[0m\u001b[1;33m\u001b[0m\u001b[0m\n",
      "\u001b[1;32m~\\anaconda3\\lib\\site-packages\\pandas\\core\\indexes\\base.py\u001b[0m in \u001b[0;36mget_loc\u001b[1;34m(self, key, method, tolerance)\u001b[0m\n\u001b[0;32m   3080\u001b[0m                 \u001b[1;32mreturn\u001b[0m \u001b[0mself\u001b[0m\u001b[1;33m.\u001b[0m\u001b[0m_engine\u001b[0m\u001b[1;33m.\u001b[0m\u001b[0mget_loc\u001b[0m\u001b[1;33m(\u001b[0m\u001b[0mcasted_key\u001b[0m\u001b[1;33m)\u001b[0m\u001b[1;33m\u001b[0m\u001b[1;33m\u001b[0m\u001b[0m\n\u001b[0;32m   3081\u001b[0m             \u001b[1;32mexcept\u001b[0m \u001b[0mKeyError\u001b[0m \u001b[1;32mas\u001b[0m \u001b[0merr\u001b[0m\u001b[1;33m:\u001b[0m\u001b[1;33m\u001b[0m\u001b[1;33m\u001b[0m\u001b[0m\n\u001b[1;32m-> 3082\u001b[1;33m                 \u001b[1;32mraise\u001b[0m \u001b[0mKeyError\u001b[0m\u001b[1;33m(\u001b[0m\u001b[0mkey\u001b[0m\u001b[1;33m)\u001b[0m \u001b[1;32mfrom\u001b[0m \u001b[0merr\u001b[0m\u001b[1;33m\u001b[0m\u001b[1;33m\u001b[0m\u001b[0m\n\u001b[0m\u001b[0;32m   3083\u001b[0m \u001b[1;33m\u001b[0m\u001b[0m\n\u001b[0;32m   3084\u001b[0m         \u001b[1;32mif\u001b[0m \u001b[0mtolerance\u001b[0m \u001b[1;32mis\u001b[0m \u001b[1;32mnot\u001b[0m \u001b[1;32mNone\u001b[0m\u001b[1;33m:\u001b[0m\u001b[1;33m\u001b[0m\u001b[1;33m\u001b[0m\u001b[0m\n",
      "\u001b[1;31mKeyError\u001b[0m: 'Property_AreaId'"
     ]
    }
   ],
   "source": [
    "#結婚住郊區成功率高\n",
    "marr_sub = []\n",
    "mar = data['Married']=='1'\n",
    "sub = data['Property_AreaId']=='1'\n",
    "dataset = data[mar & sub]\n",
    "Loan_ID = []\n",
    "for i in dataset['Loan_ID'] :\n",
    "    Loan_ID.append(i)\n",
    "for i in data['Loan_ID'] :\n",
    "    if i not in Loan_ID :\n",
    "        marr_sub.append('0')\n",
    "    else :\n",
    "        marr_sub.append('1')\n",
    "data['marr_sub'] = marr_sub"
   ]
  },
  {
   "cell_type": "code",
   "execution_count": 118,
   "id": "dce7741e",
   "metadata": {
    "scrolled": false
   },
   "outputs": [
    {
     "data": {
      "image/png": "[encoded data removed]",
      "text/plain": [
       "<Figure size 432x288 with 1 Axes>"
      ]
     },
     "metadata": {
      "needs_background": "light"
     },
     "output_type": "display_data"
    },
    {
     "data": {
      "image/png": "[encoded data removed]",
      "text/plain": [
       "<Figure size 432x288 with 1 Axes>"
      ]
     },
     "metadata": {
      "needs_background": "light"
     },
     "output_type": "display_data"
    },
    {
     "name": "stdout",
     "output_type": "stream",
     "text": [
      "\n",
      "\n",
      "\n"
     ]
    },
    {
     "data": {
      "image/png": "[encoded data removed]",
      "text/plain": [
       "<Figure size 432x288 with 1 Axes>"
      ]
     },
     "metadata": {
      "needs_background": "light"
     },
     "output_type": "display_data"
    },
    {
     "data": {
      "image/png": "[encoded data removed]",
      "text/plain": [
       "<Figure size 432x288 with 1 Axes>"
      ]
     },
     "metadata": {
      "needs_background": "light"
     },
     "output_type": "display_data"
    },
    {
     "name": "stdout",
     "output_type": "stream",
     "text": [
      "\n",
      "\n",
      "\n"
     ]
    },
    {
     "data": {
      "image/png": "[encoded data removed]",
      "text/plain": [
       "<Figure size 432x288 with 1 Axes>"
      ]
     },
     "metadata": {
      "needs_background": "light"
     },
     "output_type": "display_data"
    },
    {
     "data": {
      "image/png": "[encoded data removed]",
      "text/plain": [
       "<Figure size 432x288 with 1 Axes>"
      ]
     },
     "metadata": {
      "needs_background": "light"
     },
     "output_type": "display_data"
    },
    {
     "name": "stdout",
     "output_type": "stream",
     "text": [
      "\n",
      "\n",
      "\n"
     ]
    },
    {
     "data": {
      "image/png": "[encoded data removed]",
      "text/plain": [
       "<Figure size 432x288 with 1 Axes>"
      ]
     },
     "metadata": {
      "needs_background": "light"
     },
     "output_type": "display_data"
    },
    {
     "data": {
      "image/png": "[encoded data removed]",
      "text/plain": [
       "<Figure size 432x288 with 1 Axes>"
      ]
     },
     "metadata": {
      "needs_background": "light"
     },
     "output_type": "display_data"
    },
    {
     "name": "stdout",
     "output_type": "stream",
     "text": [
      "\n",
      "\n",
      "\n"
     ]
    }
   ],
   "source": [
    "elements = ['Gender','Married','Education','Self_Employed']\n",
    "for i in elements :\n",
    "    fliter_pos = data[i] == '1'\n",
    "    fliter_neg = data[i] == '0'\n",
    "    fliter = data['Loan_Status'] == 'Y'\n",
    "    pos = len(data[fliter_pos])\n",
    "    neg = len(data[fliter_neg])\n",
    "    pos_Y = len(data[(fliter_pos & fliter)])\n",
    "    neg_Y = len(data[(fliter_neg & fliter)])\n",
    "    rate_pos = pos_Y/pos\n",
    "    rate_neg = neg_Y/neg\n",
    "    plt.title('%s與貸款成功率的人數'  %(i))\n",
    "    sns.countplot(x=data[i], hue=data['Loan_Status'])\n",
    "    plt.show()\n",
    "    plt.title('%s與貸款成功率的關聯'  %(i))\n",
    "    plt.bar(x='0',height=rate_neg)\n",
    "    plt.bar(x='1',height=rate_pos)\n",
    "    plt.show()\n",
    "    print()\n",
    "    print()\n",
    "    print()"
   ]
  },
  {
   "cell_type": "code",
   "execution_count": 162,
   "id": "21e2cf8f",
   "metadata": {},
   "outputs": [
    {
     "data": {
      "image/png": "[encoded data removed]",
      "text/plain": [
       "<Figure size 432x288 with 1 Axes>"
      ]
     },
     "metadata": {
      "needs_background": "light"
     },
     "output_type": "display_data"
    },
    {
     "data": {
      "text/plain": [
       "<BarContainer object of 3 artists>"
      ]
     },
     "execution_count": 162,
     "metadata": {},
     "output_type": "execute_result"
    },
    {
     "data": {
      "image/png": "[encoded data removed]",
      "text/plain": [
       "<Figure size 432x288 with 1 Axes>"
      ]
     },
     "metadata": {
      "needs_background": "light"
     },
     "output_type": "display_data"
    }
   ],
   "source": [
    "#Property_Area對貸款的影響\n",
    "fliter = data['Loan_Status'] == 'Y'\n",
    "fliter_rural = data['Property_AreaId'] == '0'\n",
    "fliter_semiurban = data['Property_AreaId'] == '1'\n",
    "fliter_urban = data['Property_AreaId'] == '2'\n",
    "Rural = data[fliter_rural & fliter]\n",
    "Semiurban = data[fliter_semiurban & fliter]\n",
    "Urban = data[fliter_urban & fliter]\n",
    "plt.title('住各地的貸款的人數')\n",
    "plt.bar(x='Rural',height=len(Rural))\n",
    "plt.bar(x='Semiurban',height=len(Semiurban))\n",
    "plt.bar(x='Urban',height=len(Urban))\n",
    "plt.show()\n",
    "rural = len(data[fliter_rural])\n",
    "semiurban = len(data[fliter_semiurban])\n",
    "urban = len(data[fliter_urban])\n",
    "x = [len(Rural)/rural,\n",
    "     len(Semiurban)/semiurban,\n",
    "     len(Urban)/urban]\n",
    "plt.title('住各地的貸款的成功率')\n",
    "plt.bar(x=['rural','semiurban','urban'],height=x)"
   ]
  },
  {
   "cell_type": "code",
   "execution_count": 66,
   "id": "014ca1ff",
   "metadata": {},
   "outputs": [
    {
     "data": {
      "image/png": "[encoded data removed]",
      "text/plain": [
       "<Figure size 432x288 with 1 Axes>"
      ]
     },
     "metadata": {
      "needs_background": "light"
     },
     "output_type": "display_data"
    },
    {
     "data": {
      "text/plain": [
       "<BarContainer object of 4 artists>"
      ]
     },
     "execution_count": 66,
     "metadata": {},
     "output_type": "execute_result"
    },
    {
     "data": {
      "image/png": "[encoded data removed]",
      "text/plain": [
       "<Figure size 432x288 with 1 Axes>"
      ]
     },
     "metadata": {
      "needs_background": "light"
     },
     "output_type": "display_data"
    }
   ],
   "source": [
    "#dependent對貸款的影響\n",
    "Dependents_0 = data[data['Dependents'] == 0 & fliter]\n",
    "Dependents_1 = data[data['Dependents'] == 1 & fliter]\n",
    "Dependents_2 = data[data['Dependents'] == 2 & fliter]\n",
    "Dependents_3 = data[data['Dependents'] == 3 & fliter]\n",
    "fliter = data['Loan_Status'] == 'Y'\n",
    "plt.title('有小孩貸款的人數')\n",
    "plt.bar(x='0',height=len(Dependents_0))\n",
    "plt.bar(x='1',height=len(Dependents_1))\n",
    "plt.bar(x='2',height=len(Dependents_2))\n",
    "plt.bar(x='3',height=len(Dependents_3))\n",
    "plt.show()\n",
    "x = [len(data[data['Dependents'] == 0])/len(Dependents_0),\n",
    "     len(data[data['Dependents'] == 1])/len(Dependents_1),\n",
    "     len(data[data['Dependents'] == 2])/len(Dependents_2),\n",
    "     len(data[data['Dependents'] == 3])/len(Dependents_3)]\n",
    "plt.title('有小孩貸款的成功率')\n",
    "plt.bar(x=['0','1','2','3'],height=x)"
   ]
  },
  {
   "cell_type": "code",
   "execution_count": 114,
   "id": "350bdc00",
   "metadata": {},
   "outputs": [
    {
     "data": {
      "image/png": "[encoded data removed]",
      "text/plain": [
       "<Figure size 432x288 with 1 Axes>"
      ]
     },
     "metadata": {
      "needs_background": "light"
     },
     "output_type": "display_data"
    },
    {
     "data": {
      "image/png": "[encoded data removed]",
      "text/plain": [
       "<Figure size 432x288 with 1 Axes>"
      ]
     },
     "metadata": {
      "needs_background": "light"
     },
     "output_type": "display_data"
    }
   ],
   "source": [
    "data['Credit_History'].value_counts()\n",
    "Y = data['Loan_Status'] == 'Y'\n",
    "fliter_cred = data['Credit_History'] == 1\n",
    "fliter_uncred = data['Credit_History'] == 0\n",
    "cred_Y = data[fliter_cred & Y]\n",
    "uncred_Y = data[fliter_uncred & Y]\n",
    "cred_rate = len(cred_Y)/len(data[fliter_cred])\n",
    "uncred_rate = len(uncred_Y)/len(data[fliter_uncred])\n",
    "plt.bar(x=['cred','uncred'],height=[len(data[fliter_cred]),len(data[fliter_uncred])])\n",
    "plt.show()\n",
    "plt.bar(x=['cred','uncred'],height=[cred_rate,uncred_rate])\n",
    "plt.show()"
   ]
  },
  {
   "cell_type": "code",
   "execution_count": 163,
   "id": "3a9ff87c",
   "metadata": {},
   "outputs": [
    {
     "data": {
      "image/png": "[encoded data removed]",
      "text/plain": [
       "<Figure size 432x288 with 1 Axes>"
      ]
     },
     "metadata": {
      "needs_background": "light"
     },
     "output_type": "display_data"
    },
    {
     "data": {
      "image/png": "[encoded data removed]",
      "text/plain": [
       "<Figure size 432x288 with 1 Axes>"
      ]
     },
     "metadata": {
      "needs_background": "light"
     },
     "output_type": "display_data"
    },
    {
     "name": "stdout",
     "output_type": "stream",
     "text": [
      "\n",
      "\n"
     ]
    },
    {
     "data": {
      "image/png": "[encoded data removed]",
      "text/plain": [
       "<Figure size 432x288 with 1 Axes>"
      ]
     },
     "metadata": {
      "needs_background": "light"
     },
     "output_type": "display_data"
    },
    {
     "data": {
      "image/png": "[encoded data removed]",
      "text/plain": [
       "<Figure size 432x288 with 1 Axes>"
      ]
     },
     "metadata": {
      "needs_background": "light"
     },
     "output_type": "display_data"
    },
    {
     "name": "stdout",
     "output_type": "stream",
     "text": [
      "\n",
      "\n"
     ]
    },
    {
     "data": {
      "image/png": "[encoded data removed]",
      "text/plain": [
       "<Figure size 432x288 with 1 Axes>"
      ]
     },
     "metadata": {
      "needs_background": "light"
     },
     "output_type": "display_data"
    },
    {
     "data": {
      "image/png": "[encoded data removed]",
      "text/plain": [
       "<Figure size 432x288 with 1 Axes>"
      ]
     },
     "metadata": {
      "needs_background": "light"
     },
     "output_type": "display_data"
    },
    {
     "name": "stdout",
     "output_type": "stream",
     "text": [
      "\n",
      "\n"
     ]
    },
    {
     "data": {
      "image/png": "[encoded data removed]",
      "text/plain": [
       "<Figure size 432x288 with 1 Axes>"
      ]
     },
     "metadata": {
      "needs_background": "light"
     },
     "output_type": "display_data"
    },
    {
     "data": {
      "image/png": "[encoded data removed]",
      "text/plain": [
       "<Figure size 432x288 with 1 Axes>"
      ]
     },
     "metadata": {
      "needs_background": "light"
     },
     "output_type": "display_data"
    },
    {
     "name": "stdout",
     "output_type": "stream",
     "text": [
      "\n",
      "\n"
     ]
    }
   ],
   "source": [
    "element = ['ApplicantIncome','LoanAmount','Loan_Amount_Term','CoapplicantIncome']\n",
    "for i in element :\n",
    "    Y = data[data['Loan_Status'] == 'Y']\n",
    "    N = data[data['Loan_Status'] == 'N']\n",
    "    data_Y = Y[i]\n",
    "    data_N = N[i]\n",
    "    plt.title('%s success'%(i))\n",
    "    plt.plot(data_Y)\n",
    "    plt.show()\n",
    "    plt.title('%s fail'%(i))\n",
    "    plt.plot(data_N)\n",
    "    plt.show()\n",
    "    print()\n",
    "    print()"
   ]
  },
  {
   "cell_type": "code",
   "execution_count": 26,
   "id": "2d3b29a5",
   "metadata": {
    "scrolled": true
   },
   "outputs": [
    {
     "data": {
      "text/plain": [
       "<BarContainer object of 2 artists>"
      ]
     },
     "execution_count": 26,
     "metadata": {},
     "output_type": "execute_result"
    },
    {
     "data": {
      "image/png": "[encoded data removed]",
      "text/plain": [
       "<Figure size 432x288 with 1 Axes>"
      ]
     },
     "metadata": {
      "needs_background": "light"
     },
     "output_type": "display_data"
    }
   ],
   "source": [
    "App_Y = data[data['Loan_Status']=='Y']\n",
    "low_App = App_Y[App_Y['ApplicantIncome']<3812]\n",
    "high_App = App_Y[App_Y['ApplicantIncome']>3812]\n",
    "y1 = len(low_App)/len(App_Y)\n",
    "y2 = len(high_App)/len(App_Y)\n",
    "plt.bar(x=['low Applicantincome','high Applicantincome'],\n",
    "        height=[y1,y2])"
   ]
  },
  {
   "cell_type": "code",
   "execution_count": 108,
   "id": "bfc65791",
   "metadata": {},
   "outputs": [
    {
     "data": {
      "text/plain": [
       "<BarContainer object of 2 artists>"
      ]
     },
     "execution_count": 108,
     "metadata": {},
     "output_type": "execute_result"
    },
    {
     "data": {
      "image/png": "[encoded data removed]",
      "text/plain": [
       "<Figure size 432x288 with 1 Axes>"
      ]
     },
     "metadata": {
      "needs_background": "light"
     },
     "output_type": "display_data"
    }
   ],
   "source": [
    "fliter_unmar_dep = data['unmar_dep'] == '1'\n",
    "fliter = data['Loan_Status']=='Y'\n",
    "unmar_dep = data[fliter_unmar_dep]\n",
    "unmar_dep_Y = data[fliter_unmar_dep & fliter]\n",
    "unmar_dep_rate = len(unmar_dep_Y)/len(unmar_dep)\n",
    "Y = data[fliter]\n",
    "Y_rate = len(Y)/len(data)\n",
    "plt.bar(x=['未婚育子女','全'],height=[unmar_dep_rate,Y_rate])"
   ]
  },
  {
   "cell_type": "code",
   "execution_count": 30,
   "id": "2579f533",
   "metadata": {},
   "outputs": [
    {
     "data": {
      "text/plain": [
       "<BarContainer object of 2 artists>"
      ]
     },
     "execution_count": 30,
     "metadata": {},
     "output_type": "execute_result"
    },
    {
     "data": {
      "image/png": "[encoded data removed]",
      "text/plain": [
       "<Figure size 432x288 with 1 Axes>"
      ]
     },
     "metadata": {
      "needs_background": "light"
     },
     "output_type": "display_data"
    }
   ],
   "source": [
    "fliter_unedu_rural = data['unedu_rural'] == '1'\n",
    "fliter = data['Loan_Status']=='Y'\n",
    "unedu_rural = data[fliter_unedu_rural]\n",
    "unedu_rural_Y = data[fliter_unedu_rural & fliter]\n",
    "unedu_rural_rate = len(unedu_rural_Y)/len(unedu_rural)\n",
    "Y = data[fliter]\n",
    "Y_rate = len(Y)/len(data)\n",
    "plt.bar(x=['未畢業且居住於鄉村','全'],height=[unedu_rural_rate,Y_rate])"
   ]
  },
  {
   "cell_type": "code",
   "execution_count": 236,
   "id": "d7550c1e",
   "metadata": {},
   "outputs": [
    {
     "name": "stdout",
     "output_type": "stream",
     "text": [
      "0.803921568627451\n",
      "0.6872964169381107\n"
     ]
    }
   ],
   "source": [
    "a = data['Gender']=='0'\n",
    "b = data['Married']=='1'\n",
    "c = data['Dependents']==0\n",
    "d = data['Education']=='1'\n",
    "e = data['Self_Employed']=='0'\n",
    "f = data['Property_AreaId']=='1'\n",
    "z = data[b&f]\n",
    "z_Y = z[z['Loan_Status']=='Y']\n",
    "print(len(z_Y)/len(z))\n",
    "q = data[data['Loan_Status']=='Y']\n",
    "print(len(q)/len(data))"
   ]
  },
  {
   "cell_type": "code",
   "execution_count": 201,
   "id": "c3af9559",
   "metadata": {},
   "outputs": [
    {
     "data": {
      "text/plain": [
       "58"
      ]
     },
     "execution_count": 201,
     "metadata": {},
     "output_type": "execute_result"
    }
   ],
   "source": [
    "len(z)"
   ]
  },
  {
   "cell_type": "code",
   "execution_count": 161,
   "id": "4fc3f243",
   "metadata": {},
   "outputs": [
    {
     "name": "stdout",
     "output_type": "stream",
     "text": [
      "<class 'pandas.core.frame.DataFrame'>\n",
      "RangeIndex: 614 entries, 0 to 613\n",
      "Data columns (total 16 columns):\n",
      " #   Column             Non-Null Count  Dtype   \n",
      "---  ------             --------------  -----   \n",
      " 0   Loan_ID            614 non-null    category\n",
      " 1   Gender             614 non-null    category\n",
      " 2   Married            614 non-null    category\n",
      " 3   Dependents         614 non-null    int32   \n",
      " 4   Education          614 non-null    category\n",
      " 5   Self_Employed      614 non-null    category\n",
      " 6   ApplicantIncome    614 non-null    int64   \n",
      " 7   CoapplicantIncome  614 non-null    float64 \n",
      " 8   LoanAmount         614 non-null    float64 \n",
      " 9   Loan_Amount_Term   614 non-null    float64 \n",
      " 10  Credit_History     614 non-null    int64   \n",
      " 11  Property_Area      614 non-null    category\n",
      " 12  Loan_Status        614 non-null    object  \n",
      " 13  Property_AreaId    614 non-null    category\n",
      " 14  unmar_dep          614 non-null    object  \n",
      " 15  unedu_rural        614 non-null    object  \n",
      "dtypes: category(7), float64(3), int32(1), int64(2), object(3)\n",
      "memory usage: 67.4+ KB\n"
     ]
    }
   ],
   "source": [
    "data.info()"
   ]
  },
  {
   "cell_type": "code",
   "execution_count": 123,
   "id": "76da66ec",
   "metadata": {},
   "outputs": [
    {
     "name": "stdout",
     "output_type": "stream",
     "text": [
      "<class 'pandas.core.frame.DataFrame'>\n",
      "RangeIndex: 614 entries, 0 to 613\n",
      "Data columns (total 15 columns):\n",
      " #   Column             Non-Null Count  Dtype   \n",
      "---  ------             --------------  -----   \n",
      " 0   Loan_ID            614 non-null    category\n",
      " 1   Gender             614 non-null    category\n",
      " 2   Married            614 non-null    category\n",
      " 3   Dependents         614 non-null    int32   \n",
      " 4   Education          614 non-null    category\n",
      " 5   Self_Employed      614 non-null    category\n",
      " 6   ApplicantIncome    614 non-null    int64   \n",
      " 7   CoapplicantIncome  614 non-null    float64 \n",
      " 8   LoanAmount         614 non-null    float64 \n",
      " 9   Loan_Amount_Term   614 non-null    float64 \n",
      " 10  Credit_History     614 non-null    int64   \n",
      " 11  Property_Area      614 non-null    category\n",
      " 12  Loan_Status        614 non-null    object  \n",
      " 13  Property_AreaId    614 non-null    category\n",
      " 14  unmar_dep          614 non-null    object  \n",
      "dtypes: category(7), float64(3), int32(1), int64(2), object(2)\n",
      "memory usage: 62.6+ KB\n"
     ]
    }
   ],
   "source": [
    "data.info()"
   ]
  },
  {
   "cell_type": "code",
   "execution_count": null,
   "id": "4690b513",
   "metadata": {},
   "outputs": [],
   "source": []
  },
  {
   "cell_type": "code",
   "execution_count": null,
   "id": "f4ea9b7c",
   "metadata": {},
   "outputs": [],
   "source": []
  },
  {
   "cell_type": "code",
   "execution_count": null,
   "id": "f502e712",
   "metadata": {},
   "outputs": [],
   "source": []
  },
  {
   "cell_type": "code",
   "execution_count": null,
   "id": "70da7f49",
   "metadata": {},
   "outputs": [],
   "source": []
  },
  {
   "cell_type": "code",
   "execution_count": null,
   "id": "dad09af1",
   "metadata": {},
   "outputs": [],
   "source": []
  },
  {
   "cell_type": "code",
   "execution_count": null,
   "id": "9909a471",
   "metadata": {},
   "outputs": [],
   "source": []
  },
  {
   "cell_type": "code",
   "execution_count": null,
   "id": "096a93b3",
   "metadata": {},
   "outputs": [],
   "source": []
  },
  {
   "cell_type": "code",
   "execution_count": null,
   "id": "02ac4dfc",
   "metadata": {},
   "outputs": [],
   "source": []
  },
  {
   "cell_type": "code",
   "execution_count": 87,
   "id": "714db50b",
   "metadata": {},
   "outputs": [],
   "source": [
    "#自定義函式\n",
    "#Dependents 缺失值取1\n",
    "def standard(data) :\n",
    "    gender = []\n",
    "    for i in data[\"Gender\"] :\n",
    "        if i == 'Female' :\n",
    "            gender.append('0')\n",
    "        elif i == 'Male' :\n",
    "            gender.append('1')\n",
    "        else :\n",
    "            gender.append(np.nan)\n",
    "    data['Gender'] = gender\n",
    "\n",
    "    married = []\n",
    "    for i in data[\"Married\"] :\n",
    "        if i == 'No' :\n",
    "            married.append('0')\n",
    "        elif i == 'Yes' :\n",
    "            married.append('1')\n",
    "        else :\n",
    "            married.append(np.nan)\n",
    "    data['Married'] = married\n",
    "\n",
    "    Edu = []\n",
    "    for i in data[\"Education\"] :\n",
    "        if i == 'Graduate' :\n",
    "            Edu.append('1')\n",
    "        else :\n",
    "            Edu.append('0')\n",
    "    data['Education'] = Edu\n",
    "\n",
    "    self_employee = []\n",
    "    for i in data[\"Self_Employed\"] :\n",
    "        if i == 'Yes' :\n",
    "            self_employee.append('1')\n",
    "        elif i == 'No' :\n",
    "            self_employee.append('0')\n",
    "        else :\n",
    "            self_employee.append(np.nan)\n",
    "    data[\"Self_Employed\"] = self_employee\n",
    "\n",
    "    area = []\n",
    "    for i in data[\"Property_Area\"] :\n",
    "        if i == 'Urban' :\n",
    "            area.append('2')\n",
    "        elif i == 'Semiurban' :\n",
    "            area.append('1')\n",
    "        else :\n",
    "            area.append('0')\n",
    "    data[\"Property_AreaId\"] = area\n",
    "\n",
    "    dep = []\n",
    "    for i in data[\"Dependents\"] :\n",
    "        if i == '0' :\n",
    "            dep.append(0)\n",
    "        elif i == '1' :\n",
    "            dep.append(1)\n",
    "        elif i == '2' :\n",
    "            dep.append(2)\n",
    "        else :\n",
    "            dep.append(3)\n",
    "    data[\"Dependents\"] = dep\n",
    "\n",
    "    his = []\n",
    "    for i in data[\"Credit_History\"] :\n",
    "        if i == 1.0 :\n",
    "            his.append(1)\n",
    "        elif i == 0.0 :\n",
    "            his.append(0)\n",
    "        else :\n",
    "            his.append(1)\n",
    "    data[\"Credit_History\"] = his\n",
    "    \n",
    "    #未婚育兒的失敗率較高\n",
    "    unmar_dep = []\n",
    "    for i in data['Married'] :\n",
    "        if i == '0' :\n",
    "            unmar_dep.append('1')\n",
    "        else :\n",
    "            unmar_dep.append('0')\n",
    "    for i in range(len(data['Dependents'])) :\n",
    "        if data['Dependents'].loc[i] == 0 :\n",
    "            unmar_dep[i] = '0'\n",
    "    data['unmar_dep'] = unmar_dep\n",
    "\n",
    "    #未畢業居住鄉村的失敗率較高\n",
    "    unedu_rural = []\n",
    "    for i in data['Education'] :\n",
    "        if i == '0' :\n",
    "            unedu_rural.append('1')\n",
    "        else :\n",
    "            unedu_rural.append('0')\n",
    "    for i in range(len(data['Property_AreaId'])) :\n",
    "        if data['Property_AreaId'].loc[i] == '1' or data['Property_AreaId'].loc[i] == '2' :\n",
    "            unedu_rural[i] = '0'\n",
    "    data['unedu_rural'] = unedu_rural\n",
    "    \n",
    "    #結婚住郊區成功率高\n",
    "    marr_sub = []\n",
    "    mar = data['Married']=='1'\n",
    "    sub = data['Property_AreaId']=='1'\n",
    "    dataset = data[mar & sub]\n",
    "    Loan_ID = []\n",
    "    for i in dataset['Loan_ID'] :\n",
    "        Loan_ID.append(i)\n",
    "    for i in data['Loan_ID'] :\n",
    "        if i not in Loan_ID :\n",
    "            marr_sub.append('0')\n",
    "        else :\n",
    "            marr_sub.append('1')\n",
    "    data['marr_sub'] = marr_sub\n",
    "\n",
    "    data['Loan_ID'] = data['Loan_ID'].astype('category')\n",
    "    data['Gender'] = data['Gender'].astype('category')\n",
    "    data['Married'] = data['Married'].astype('category')\n",
    "    data['Dependents'] = data['Dependents'].astype(int)\n",
    "    data['Education'] = data['Education'].astype(int)\n",
    "    data['Self_Employed'] = data['Self_Employed'].astype('category')\n",
    "    data['Property_Area'] = data['Property_Area'].astype('category')\n",
    "    data['Property_AreaId'] = data['Property_AreaId'].astype('category')\n",
    "\n",
    "    #處理Gender的缺失值\n",
    "    data['Gender'] = data['Gender'].fillna('1')\n",
    "\n",
    "    #處理Married的缺失值\n",
    "    data['Married'] = data['Married'].fillna('1')\n",
    "\n",
    "\n",
    "    #缺失值取1\n",
    "    data['Dependents'] = data['Dependents'].fillna(data['Dependents'].mean())\n",
    "\n",
    "    #處理Self_Employed的缺失值\n",
    "    data['Self_Employed'] = data['Self_Employed'].fillna('0')\n",
    "\n",
    "    #處理loan amount 的缺失值\n",
    "    #取平均值\n",
    "    data['LoanAmount'] = data['LoanAmount'].fillna(data['LoanAmount'].mean())\n",
    "\n",
    "    #處理Loan_Amount_Term缺失值\n",
    "    #取平均值\n",
    "    data['Loan_Amount_Term'] = data['Loan_Amount_Term'].fillna(data['Loan_Amount_Term'].mean())\n",
    "\n",
    "    #處理Credit_History缺失值\n",
    "    #取1\n",
    "    data['Credit_History'] = data['Credit_History'].fillna('1')"
   ]
  },
  {
   "cell_type": "code",
   "execution_count": 168,
   "id": "380f3cff",
   "metadata": {},
   "outputs": [],
   "source": [
    "test = pd.read_csv(\"C:/Users/asd11/OneDrive/桌面/貸款模型預測/test_lAUu6dG.csv\")\n",
    "train = pd.read_csv(\"C:/Users/asd11/OneDrive/桌面/貸款模型預測/train_ctrUa4K.csv\")"
   ]
  },
  {
   "cell_type": "code",
   "execution_count": 169,
   "id": "c326dd5e",
   "metadata": {},
   "outputs": [],
   "source": [
    "standard(train)\n",
    "standard(test)"
   ]
  },
  {
   "cell_type": "code",
   "execution_count": 171,
   "id": "5c5cde13",
   "metadata": {},
   "outputs": [],
   "source": [
    "train = train.drop(['Property_Area'],axis=1)\n",
    "test = test.drop(['Property_Area'],axis=1)"
   ]
  },
  {
   "cell_type": "code",
   "execution_count": 172,
   "id": "f9c80174",
   "metadata": {},
   "outputs": [],
   "source": [
    "train_y = train['Loan_Status']\n",
    "train_X = train.drop(['Loan_Status','Loan_ID'],axis=1)\n",
    "Id = test['Loan_ID']\n",
    "test = test.drop(['Loan_ID'],axis=1)"
   ]
  },
  {
   "cell_type": "code",
   "execution_count": 173,
   "id": "1a2f2319",
   "metadata": {},
   "outputs": [],
   "source": [
    "from sklearn.ensemble import RandomForestClassifier\n",
    " \n",
    "model = RandomForestClassifier(criterion='gini', \n",
    "                             n_estimators=1000,\n",
    "                             min_samples_split=12,\n",
    "                             min_samples_leaf=1,\n",
    "                             oob_score=True,\n",
    "                             random_state=1,\n",
    "                             n_jobs=-1) \n",
    "\n",
    "model.fit(train_X,train_y)\n",
    "pred = model.predict(test)"
   ]
  },
  {
   "cell_type": "code",
   "execution_count": 174,
   "id": "25e15e6a",
   "metadata": {},
   "outputs": [],
   "source": [
    "output = pd.DataFrame({'Loan_ID': Id,\n",
    "                       'Loan_Status': pred})\n",
    "output.to_csv('submission.csv', index=False)"
   ]
  }
 ],
 "metadata": {
  "kernelspec": {
   "display_name": "Python 3",
   "language": "python",
   "name": "python3"
  },
  "language_info": {
   "codemirror_mode": {
    "name": "ipython",
    "version": 3
   },
   "file_extension": ".py",
   "mimetype": "text/x-python",
   "name": "python",
   "nbconvert_exporter": "python",
   "pygments_lexer": "ipython3",
   "version": "3.8.8"
  }
 },
 "nbformat": 4,
 "nbformat_minor": 5
}
